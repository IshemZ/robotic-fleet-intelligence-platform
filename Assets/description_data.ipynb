{
 "cells": [
  {
   "cell_type": "code",
   "execution_count": 1,
   "id": "9b75c99b",
   "metadata": {},
   "outputs": [],
   "source": [
    "import pandas as pd"
   ]
  },
  {
   "cell_type": "code",
   "execution_count": 17,
   "id": "318f1666",
   "metadata": {},
   "outputs": [
    {
     "data": {
      "application/vnd.microsoft.datawrangler.viewer.v0+json": {
       "columns": [
        {
         "name": "index",
         "rawType": "int64",
         "type": "integer"
        },
        {
         "name": "Index",
         "rawType": "object",
         "type": "string"
        },
        {
         "name": "Property",
         "rawType": "object",
         "type": "string"
        },
        {
         "name": "Type",
         "rawType": "object",
         "type": "string"
        },
        {
         "name": "Description",
         "rawType": "object",
         "type": "string"
        }
       ],
       "conversionMethod": "pd.DataFrame",
       "ref": "cb11c72f-ec58-43e9-80c7-9cb7d8858d2c",
       "rows": [
        [
         "0",
         "0",
         "icao24",
         "string",
         "Unique ICAO 24-bit address of the transponder in hex string representation."
        ],
        [
         "1",
         "1",
         "callsign",
         "string",
         "Callsign of the vehicle (8 chars). Can be null if no callsign has been received."
        ],
        [
         "2",
         "2",
         "origin_country",
         "string",
         "Country name inferred from the ICAO 24-bit address."
        ],
        [
         "3",
         "3",
         "time_position",
         "int",
         "Unix timestamp (seconds) for the last position update. Can be null if no position report was received by OpenSky within the past 15s."
        ],
        [
         "4",
         "4",
         "last_contact",
         "int",
         "Unix timestamp (seconds) for the last update in general. This field is updated for any new, valid message received from the transponder."
        ],
        [
         "5",
         "5",
         "longitude",
         "float",
         "WGS-84 longitude in decimal degrees. Can be null."
        ],
        [
         "6",
         "6",
         "latitude",
         "float",
         "WGS-84 latitude in decimal degrees. Can be null."
        ],
        [
         "7",
         "7",
         "baro_altitude",
         "float",
         "Barometric altitude in meters. Can be null."
        ],
        [
         "8",
         "8",
         "on_ground",
         "boolean",
         "Boolean value which indicates if the position was retrieved from a surface position report."
        ],
        [
         "9",
         "9",
         "velocity",
         "float",
         "Velocity over ground in m/s. Can be null."
        ],
        [
         "10",
         "10",
         "true_track",
         "float",
         "True track in decimal degrees clockwise from north (north=0°). Can be null."
        ],
        [
         "11",
         "11",
         "vertical_rate",
         "float",
         "Vertical rate in m/s. A positive value indicates that the airplane is climbing, a negative value indicates that it descends. Can be null."
        ],
        [
         "12",
         "12",
         "sensors",
         "int[]",
         "IDs of the receivers which contributed to this state vector. Is null if no filtering for sensor was used in the request."
        ],
        [
         "13",
         "13",
         "geo_altitude",
         "float",
         "Geometric altitude in meters. Can be null."
        ],
        [
         "14",
         "14",
         "squawk",
         "string",
         "The transponder code aka Squawk. Can be null."
        ],
        [
         "15",
         "15",
         "spi",
         "boolean",
         "Whether flight status indicates special purpose indicator."
        ],
        [
         "16",
         "16",
         "position_source",
         "int",
         "Origin of this state’s position. , 0 = ADS-B , 1 = ASTERIX , 2 = MLAT , 3 = FLARM"
        ],
        [
         "17",
         "17",
         "category",
         "int",
         "Aircraft category. , 0 = No information at all , 1 = No ADS-B Emitter Category Information , 2 = Light (< 15500 lbs) , 3 = Small (15500 to 75000 lbs) , 4 = Large (75000 to 300000 lbs) , 5 = High Vortex Large (aircraft such as B-757) , 6 = Heavy (> 300000 lbs) , 7 = High Performance (> 5g acceleration and 400 kts) , 8 = Rotorcraft , 9 = Glider / sailplane , 10 = Lighter-than-air , 11 = Parachutist / Skydiver , 12 = Ultralight / hang-glider / paraglider , 13 = Reserved , 14 = Unmanned Aerial Vehicle , 15 = Space / Trans-atmospheric vehicle , 16 = Surface Vehicle – Emergency Vehicle , 17 = Surface Vehicle – Service Vehicle , 18 = Point Obstacle (includes tethered balloons) , 19 = Cluster Obstacle , 20 = Line Obstacle"
        ]
       ],
       "shape": {
        "columns": 4,
        "rows": 18
       }
      },
      "text/html": [
       "<div>\n",
       "<style scoped>\n",
       "    .dataframe tbody tr th:only-of-type {\n",
       "        vertical-align: middle;\n",
       "    }\n",
       "\n",
       "    .dataframe tbody tr th {\n",
       "        vertical-align: top;\n",
       "    }\n",
       "\n",
       "    .dataframe thead th {\n",
       "        text-align: right;\n",
       "    }\n",
       "</style>\n",
       "<table border=\"1\" class=\"dataframe\">\n",
       "  <thead>\n",
       "    <tr style=\"text-align: right;\">\n",
       "      <th></th>\n",
       "      <th>Index</th>\n",
       "      <th>Property</th>\n",
       "      <th>Type</th>\n",
       "      <th>Description</th>\n",
       "    </tr>\n",
       "  </thead>\n",
       "  <tbody>\n",
       "    <tr>\n",
       "      <th>0</th>\n",
       "      <td>0</td>\n",
       "      <td>icao24</td>\n",
       "      <td>string</td>\n",
       "      <td>Unique ICAO 24-bit address of the transponder ...</td>\n",
       "    </tr>\n",
       "    <tr>\n",
       "      <th>1</th>\n",
       "      <td>1</td>\n",
       "      <td>callsign</td>\n",
       "      <td>string</td>\n",
       "      <td>Callsign of the vehicle (8 chars). Can be null...</td>\n",
       "    </tr>\n",
       "    <tr>\n",
       "      <th>2</th>\n",
       "      <td>2</td>\n",
       "      <td>origin_country</td>\n",
       "      <td>string</td>\n",
       "      <td>Country name inferred from the ICAO 24-bit add...</td>\n",
       "    </tr>\n",
       "    <tr>\n",
       "      <th>3</th>\n",
       "      <td>3</td>\n",
       "      <td>time_position</td>\n",
       "      <td>int</td>\n",
       "      <td>Unix timestamp (seconds) for the last position...</td>\n",
       "    </tr>\n",
       "    <tr>\n",
       "      <th>4</th>\n",
       "      <td>4</td>\n",
       "      <td>last_contact</td>\n",
       "      <td>int</td>\n",
       "      <td>Unix timestamp (seconds) for the last update i...</td>\n",
       "    </tr>\n",
       "    <tr>\n",
       "      <th>5</th>\n",
       "      <td>5</td>\n",
       "      <td>longitude</td>\n",
       "      <td>float</td>\n",
       "      <td>WGS-84 longitude in decimal degrees. Can be null.</td>\n",
       "    </tr>\n",
       "    <tr>\n",
       "      <th>6</th>\n",
       "      <td>6</td>\n",
       "      <td>latitude</td>\n",
       "      <td>float</td>\n",
       "      <td>WGS-84 latitude in decimal degrees. Can be null.</td>\n",
       "    </tr>\n",
       "    <tr>\n",
       "      <th>7</th>\n",
       "      <td>7</td>\n",
       "      <td>baro_altitude</td>\n",
       "      <td>float</td>\n",
       "      <td>Barometric altitude in meters. Can be null.</td>\n",
       "    </tr>\n",
       "    <tr>\n",
       "      <th>8</th>\n",
       "      <td>8</td>\n",
       "      <td>on_ground</td>\n",
       "      <td>boolean</td>\n",
       "      <td>Boolean value which indicates if the position ...</td>\n",
       "    </tr>\n",
       "    <tr>\n",
       "      <th>9</th>\n",
       "      <td>9</td>\n",
       "      <td>velocity</td>\n",
       "      <td>float</td>\n",
       "      <td>Velocity over ground in m/s. Can be null.</td>\n",
       "    </tr>\n",
       "    <tr>\n",
       "      <th>10</th>\n",
       "      <td>10</td>\n",
       "      <td>true_track</td>\n",
       "      <td>float</td>\n",
       "      <td>True track in decimal degrees clockwise from n...</td>\n",
       "    </tr>\n",
       "    <tr>\n",
       "      <th>11</th>\n",
       "      <td>11</td>\n",
       "      <td>vertical_rate</td>\n",
       "      <td>float</td>\n",
       "      <td>Vertical rate in m/s. A positive value indicat...</td>\n",
       "    </tr>\n",
       "    <tr>\n",
       "      <th>12</th>\n",
       "      <td>12</td>\n",
       "      <td>sensors</td>\n",
       "      <td>int[]</td>\n",
       "      <td>IDs of the receivers which contributed to this...</td>\n",
       "    </tr>\n",
       "    <tr>\n",
       "      <th>13</th>\n",
       "      <td>13</td>\n",
       "      <td>geo_altitude</td>\n",
       "      <td>float</td>\n",
       "      <td>Geometric altitude in meters. Can be null.</td>\n",
       "    </tr>\n",
       "    <tr>\n",
       "      <th>14</th>\n",
       "      <td>14</td>\n",
       "      <td>squawk</td>\n",
       "      <td>string</td>\n",
       "      <td>The transponder code aka Squawk. Can be null.</td>\n",
       "    </tr>\n",
       "    <tr>\n",
       "      <th>15</th>\n",
       "      <td>15</td>\n",
       "      <td>spi</td>\n",
       "      <td>boolean</td>\n",
       "      <td>Whether flight status indicates special purpos...</td>\n",
       "    </tr>\n",
       "    <tr>\n",
       "      <th>16</th>\n",
       "      <td>16</td>\n",
       "      <td>position_source</td>\n",
       "      <td>int</td>\n",
       "      <td>Origin of this state’s position. , 0 = ADS-B ,...</td>\n",
       "    </tr>\n",
       "    <tr>\n",
       "      <th>17</th>\n",
       "      <td>17</td>\n",
       "      <td>category</td>\n",
       "      <td>int</td>\n",
       "      <td>Aircraft category. , 0 = No information at all...</td>\n",
       "    </tr>\n",
       "  </tbody>\n",
       "</table>\n",
       "</div>"
      ],
      "text/plain": [
       "   Index         Property     Type  \\\n",
       "0      0           icao24   string   \n",
       "1      1         callsign   string   \n",
       "2      2   origin_country   string   \n",
       "3      3    time_position      int   \n",
       "4      4     last_contact      int   \n",
       "5      5        longitude    float   \n",
       "6      6         latitude    float   \n",
       "7      7    baro_altitude    float   \n",
       "8      8        on_ground  boolean   \n",
       "9      9         velocity    float   \n",
       "10    10       true_track    float   \n",
       "11    11    vertical_rate    float   \n",
       "12    12          sensors    int[]   \n",
       "13    13     geo_altitude    float   \n",
       "14    14           squawk   string   \n",
       "15    15              spi  boolean   \n",
       "16    16  position_source      int   \n",
       "17    17         category      int   \n",
       "\n",
       "                                          Description  \n",
       "0   Unique ICAO 24-bit address of the transponder ...  \n",
       "1   Callsign of the vehicle (8 chars). Can be null...  \n",
       "2   Country name inferred from the ICAO 24-bit add...  \n",
       "3   Unix timestamp (seconds) for the last position...  \n",
       "4   Unix timestamp (seconds) for the last update i...  \n",
       "5   WGS-84 longitude in decimal degrees. Can be null.  \n",
       "6    WGS-84 latitude in decimal degrees. Can be null.  \n",
       "7         Barometric altitude in meters. Can be null.  \n",
       "8   Boolean value which indicates if the position ...  \n",
       "9           Velocity over ground in m/s. Can be null.  \n",
       "10  True track in decimal degrees clockwise from n...  \n",
       "11  Vertical rate in m/s. A positive value indicat...  \n",
       "12  IDs of the receivers which contributed to this...  \n",
       "13         Geometric altitude in meters. Can be null.  \n",
       "14      The transponder code aka Squawk. Can be null.  \n",
       "15  Whether flight status indicates special purpos...  \n",
       "16  Origin of this state’s position. , 0 = ADS-B ,...  \n",
       "17  Aircraft category. , 0 = No information at all...  "
      ]
     },
     "execution_count": 17,
     "metadata": {},
     "output_type": "execute_result"
    }
   ],
   "source": [
    "description = pd.read_csv(\"../Source/description_data.csv\", sep=\";\", dtype=str, nrows=18)\n",
    "description"
   ]
  }
 ],
 "metadata": {
  "kernelspec": {
   "display_name": ".venv",
   "language": "python",
   "name": "python3"
  },
  "language_info": {
   "codemirror_mode": {
    "name": "ipython",
    "version": 3
   },
   "file_extension": ".py",
   "mimetype": "text/x-python",
   "name": "python",
   "nbconvert_exporter": "python",
   "pygments_lexer": "ipython3",
   "version": "3.13.0"
  }
 },
 "nbformat": 4,
 "nbformat_minor": 5
}
